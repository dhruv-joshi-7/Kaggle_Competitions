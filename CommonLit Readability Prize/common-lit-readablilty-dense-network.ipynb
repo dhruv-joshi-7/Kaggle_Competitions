{
 "cells": [
  {
   "cell_type": "code",
   "execution_count": 1,
   "id": "instrumental-content",
   "metadata": {
    "_cell_guid": "b1076dfc-b9ad-4769-8c92-a6c4dae69d19",
    "_uuid": "8f2839f25d086af736a60e9eeb907d3b93b6e0e5",
    "execution": {
     "iopub.execute_input": "2021-05-18T22:10:45.467846Z",
     "iopub.status.busy": "2021-05-18T22:10:45.464691Z",
     "iopub.status.idle": "2021-05-18T22:10:45.473599Z",
     "shell.execute_reply": "2021-05-18T22:10:45.472554Z"
    },
    "papermill": {
     "duration": 0.042085,
     "end_time": "2021-05-18T22:10:45.473806",
     "exception": false,
     "start_time": "2021-05-18T22:10:45.431721",
     "status": "completed"
    },
    "tags": []
   },
   "outputs": [
    {
     "name": "stdout",
     "output_type": "stream",
     "text": [
      "/kaggle/input/commonlitreadabilityprize/sample_submission.csv\n",
      "/kaggle/input/commonlitreadabilityprize/train.csv\n",
      "/kaggle/input/commonlitreadabilityprize/test.csv\n"
     ]
    }
   ],
   "source": [
    "# This Python 3 environment comes with many helpful analytics libraries installed\n",
    "# It is defined by the kaggle/python Docker image: https://github.com/kaggle/docker-python\n",
    "# For example, here's several helpful packages to load\n",
    "\n",
    "import numpy as np # linear algebra\n",
    "import pandas as pd # data processing, CSV file I/O (e.g. pd.read_csv)\n",
    "\n",
    "# Input data files are available in the read-only \"../input/\" directory\n",
    "# For example, running this (by clicking run or pressing Shift+Enter) will list all files under the input directory\n",
    "\n",
    "import os\n",
    "for dirname, _, filenames in os.walk('/kaggle/input'):\n",
    "    for filename in filenames:\n",
    "        print(os.path.join(dirname, filename))\n",
    "\n",
    "# You can write up to 20GB to the current directory (/kaggle/working/) that gets preserved as output when you create a version using \"Save & Run All\" \n",
    "# You can also write temporary files to /kaggle/temp/, but they won't be saved outside of the current session"
   ]
  },
  {
   "cell_type": "code",
   "execution_count": 2,
   "id": "stable-wrapping",
   "metadata": {
    "execution": {
     "iopub.execute_input": "2021-05-18T22:10:45.517306Z",
     "iopub.status.busy": "2021-05-18T22:10:45.516511Z",
     "iopub.status.idle": "2021-05-18T22:10:52.544371Z",
     "shell.execute_reply": "2021-05-18T22:10:52.543435Z"
    },
    "papermill": {
     "duration": 7.051763,
     "end_time": "2021-05-18T22:10:52.544515",
     "exception": false,
     "start_time": "2021-05-18T22:10:45.492752",
     "status": "completed"
    },
    "tags": []
   },
   "outputs": [],
   "source": [
    "import numpy as np\n",
    "import pandas as pd\n",
    "from sklearn.model_selection import train_test_split\n",
    "from sklearn.feature_extraction.text import CountVectorizer\n",
    "from sklearn.ensemble import RandomForestRegressor\n",
    "from sklearn.metrics import mean_absolute_error\n",
    "from sklearn.linear_model import Ridge, LinearRegression\n",
    "from sklearn.metrics import mean_squared_error\n",
    "from sklearn.feature_extraction.text import TfidfVectorizer\n",
    "from tensorflow import keras\n",
    "from tensorflow.keras import layers\n",
    "from tensorflow.keras import callbacks"
   ]
  },
  {
   "cell_type": "code",
   "execution_count": 3,
   "id": "million-feeding",
   "metadata": {
    "execution": {
     "iopub.execute_input": "2021-05-18T22:10:52.588072Z",
     "iopub.status.busy": "2021-05-18T22:10:52.585797Z",
     "iopub.status.idle": "2021-05-18T22:10:52.588912Z",
     "shell.execute_reply": "2021-05-18T22:10:52.589465Z"
    },
    "papermill": {
     "duration": 0.026282,
     "end_time": "2021-05-18T22:10:52.589605",
     "exception": false,
     "start_time": "2021-05-18T22:10:52.563323",
     "status": "completed"
    },
    "tags": []
   },
   "outputs": [],
   "source": [
    "np.random.seed(0)"
   ]
  },
  {
   "cell_type": "code",
   "execution_count": 4,
   "id": "split-telescope",
   "metadata": {
    "execution": {
     "iopub.execute_input": "2021-05-18T22:10:52.633254Z",
     "iopub.status.busy": "2021-05-18T22:10:52.632520Z",
     "iopub.status.idle": "2021-05-18T22:10:52.714641Z",
     "shell.execute_reply": "2021-05-18T22:10:52.714047Z"
    },
    "papermill": {
     "duration": 0.107147,
     "end_time": "2021-05-18T22:10:52.714787",
     "exception": false,
     "start_time": "2021-05-18T22:10:52.607640",
     "status": "completed"
    },
    "tags": []
   },
   "outputs": [],
   "source": [
    "full_data = pd.read_csv(\"../input/commonlitreadabilityprize/train.csv\")"
   ]
  },
  {
   "cell_type": "code",
   "execution_count": 5,
   "id": "wireless-michigan",
   "metadata": {
    "execution": {
     "iopub.execute_input": "2021-05-18T22:10:52.761313Z",
     "iopub.status.busy": "2021-05-18T22:10:52.759150Z",
     "iopub.status.idle": "2021-05-18T22:10:52.762226Z",
     "shell.execute_reply": "2021-05-18T22:10:52.762694Z"
    },
    "papermill": {
     "duration": 0.030508,
     "end_time": "2021-05-18T22:10:52.762830",
     "exception": false,
     "start_time": "2021-05-18T22:10:52.732322",
     "status": "completed"
    },
    "tags": []
   },
   "outputs": [],
   "source": [
    "excerpts = full_data[\"excerpt\"]\n",
    "target = full_data[\"target\"]"
   ]
  },
  {
   "cell_type": "code",
   "execution_count": 6,
   "id": "fewer-underwear",
   "metadata": {
    "execution": {
     "iopub.execute_input": "2021-05-18T22:10:52.809915Z",
     "iopub.status.busy": "2021-05-18T22:10:52.809180Z",
     "iopub.status.idle": "2021-05-18T22:10:52.812776Z",
     "shell.execute_reply": "2021-05-18T22:10:52.812269Z"
    },
    "papermill": {
     "duration": 0.032886,
     "end_time": "2021-05-18T22:10:52.812919",
     "exception": false,
     "start_time": "2021-05-18T22:10:52.780033",
     "status": "completed"
    },
    "tags": []
   },
   "outputs": [],
   "source": [
    "excerpts = excerpts.str.lower()"
   ]
  },
  {
   "cell_type": "markdown",
   "id": "opposite-notice",
   "metadata": {
    "papermill": {
     "duration": 0.017963,
     "end_time": "2021-05-18T22:10:52.848594",
     "exception": false,
     "start_time": "2021-05-18T22:10:52.830631",
     "status": "completed"
    },
    "tags": []
   },
   "source": [
    "**Performing Stemming**"
   ]
  },
  {
   "cell_type": "code",
   "execution_count": 7,
   "id": "federal-section",
   "metadata": {
    "execution": {
     "iopub.execute_input": "2021-05-18T22:10:52.889445Z",
     "iopub.status.busy": "2021-05-18T22:10:52.888185Z",
     "iopub.status.idle": "2021-05-18T22:10:52.891673Z",
     "shell.execute_reply": "2021-05-18T22:10:52.891095Z"
    },
    "papermill": {
     "duration": 0.02514,
     "end_time": "2021-05-18T22:10:52.891920",
     "exception": false,
     "start_time": "2021-05-18T22:10:52.866780",
     "status": "completed"
    },
    "tags": []
   },
   "outputs": [],
   "source": [
    "#from nltk.stem import PorterStemmer\n",
    "#ps = PorterStemmer()\n",
    "#excerpts = excerpts.apply(ps.stem)"
   ]
  },
  {
   "cell_type": "code",
   "execution_count": 8,
   "id": "overall-diagnosis",
   "metadata": {
    "execution": {
     "iopub.execute_input": "2021-05-18T22:10:52.933941Z",
     "iopub.status.busy": "2021-05-18T22:10:52.933005Z",
     "iopub.status.idle": "2021-05-18T22:10:56.228182Z",
     "shell.execute_reply": "2021-05-18T22:10:56.227642Z"
    },
    "papermill": {
     "duration": 3.317806,
     "end_time": "2021-05-18T22:10:56.228359",
     "exception": false,
     "start_time": "2021-05-18T22:10:52.910553",
     "status": "completed"
    },
    "tags": []
   },
   "outputs": [],
   "source": [
    "from nltk.stem import WordNetLemmatizer\n",
    "wnl = WordNetLemmatizer()\n",
    "excerpts = excerpts.apply(wnl.lemmatize)"
   ]
  },
  {
   "cell_type": "code",
   "execution_count": 9,
   "id": "adjustable-numbers",
   "metadata": {
    "execution": {
     "iopub.execute_input": "2021-05-18T22:10:56.274354Z",
     "iopub.status.busy": "2021-05-18T22:10:56.273710Z",
     "iopub.status.idle": "2021-05-18T22:10:56.390741Z",
     "shell.execute_reply": "2021-05-18T22:10:56.390082Z"
    },
    "papermill": {
     "duration": 0.141269,
     "end_time": "2021-05-18T22:10:56.390889",
     "exception": false,
     "start_time": "2021-05-18T22:10:56.249620",
     "status": "completed"
    },
    "tags": []
   },
   "outputs": [],
   "source": [
    "from nltk.corpus import stopwords\n",
    "\", \".join(stopwords.words('english'))\n",
    "STOPWORDS = set(stopwords.words('english'))\n",
    "def remove_stopwords(text):\n",
    "    \"\"\"custom function to remove the stopwords\"\"\"\n",
    "    return \" \".join([word for word in str(text).split() if word not in STOPWORDS])\n",
    "excerpts = excerpts.apply(lambda text: remove_stopwords(text))"
   ]
  },
  {
   "cell_type": "code",
   "execution_count": 10,
   "id": "congressional-dutch",
   "metadata": {
    "execution": {
     "iopub.execute_input": "2021-05-18T22:10:56.435123Z",
     "iopub.status.busy": "2021-05-18T22:10:56.434243Z",
     "iopub.status.idle": "2021-05-18T22:10:56.438375Z",
     "shell.execute_reply": "2021-05-18T22:10:56.437856Z"
    },
    "papermill": {
     "duration": 0.028367,
     "end_time": "2021-05-18T22:10:56.438510",
     "exception": false,
     "start_time": "2021-05-18T22:10:56.410143",
     "status": "completed"
    },
    "tags": []
   },
   "outputs": [],
   "source": [
    "excerpts_train, excerpts_val, y_train, y_val = train_test_split(excerpts, target, test_size=0.30)"
   ]
  },
  {
   "cell_type": "code",
   "execution_count": 11,
   "id": "elect-twenty",
   "metadata": {
    "execution": {
     "iopub.execute_input": "2021-05-18T22:10:56.495010Z",
     "iopub.status.busy": "2021-05-18T22:10:56.489919Z",
     "iopub.status.idle": "2021-05-18T22:10:56.762744Z",
     "shell.execute_reply": "2021-05-18T22:10:56.763274Z"
    },
    "papermill": {
     "duration": 0.305922,
     "end_time": "2021-05-18T22:10:56.763493",
     "exception": false,
     "start_time": "2021-05-18T22:10:56.457571",
     "status": "completed"
    },
    "tags": []
   },
   "outputs": [
    {
     "data": {
      "text/plain": [
       "CountVectorizer()"
      ]
     },
     "execution_count": 11,
     "metadata": {},
     "output_type": "execute_result"
    }
   ],
   "source": [
    "vectorizer = CountVectorizer()\n",
    "vectorizer.fit(excerpts_train)"
   ]
  },
  {
   "cell_type": "code",
   "execution_count": 12,
   "id": "three-wayne",
   "metadata": {
    "execution": {
     "iopub.execute_input": "2021-05-18T22:10:56.836961Z",
     "iopub.status.busy": "2021-05-18T22:10:56.826476Z",
     "iopub.status.idle": "2021-05-18T22:10:57.113558Z",
     "shell.execute_reply": "2021-05-18T22:10:57.114081Z"
    },
    "papermill": {
     "duration": 0.331082,
     "end_time": "2021-05-18T22:10:57.114243",
     "exception": false,
     "start_time": "2021-05-18T22:10:56.783161",
     "status": "completed"
    },
    "tags": []
   },
   "outputs": [
    {
     "data": {
      "text/plain": [
       "(1983, 22435)"
      ]
     },
     "execution_count": 12,
     "metadata": {},
     "output_type": "execute_result"
    }
   ],
   "source": [
    "X_train = vectorizer.transform(excerpts_train)\n",
    "X_val = vectorizer.transform(excerpts_val)\n",
    "X_train.shape"
   ]
  },
  {
   "cell_type": "code",
   "execution_count": 13,
   "id": "double-extreme",
   "metadata": {
    "execution": {
     "iopub.execute_input": "2021-05-18T22:10:57.190553Z",
     "iopub.status.busy": "2021-05-18T22:10:57.174958Z",
     "iopub.status.idle": "2021-05-18T22:10:57.669637Z",
     "shell.execute_reply": "2021-05-18T22:10:57.669010Z"
    },
    "papermill": {
     "duration": 0.534169,
     "end_time": "2021-05-18T22:10:57.669780",
     "exception": false,
     "start_time": "2021-05-18T22:10:57.135611",
     "status": "completed"
    },
    "tags": []
   },
   "outputs": [],
   "source": [
    "vec = TfidfVectorizer(max_features = 5000)\n",
    "X_train = vec.fit_transform(excerpts_train).toarray()\n",
    "X_val = vec.transform(excerpts_val).toarray()"
   ]
  },
  {
   "cell_type": "code",
   "execution_count": 14,
   "id": "lonely-hughes",
   "metadata": {
    "execution": {
     "iopub.execute_input": "2021-05-18T22:10:57.720796Z",
     "iopub.status.busy": "2021-05-18T22:10:57.720048Z",
     "iopub.status.idle": "2021-05-18T22:11:05.701443Z",
     "shell.execute_reply": "2021-05-18T22:11:05.700894Z"
    },
    "papermill": {
     "duration": 8.010538,
     "end_time": "2021-05-18T22:11:05.701589",
     "exception": false,
     "start_time": "2021-05-18T22:10:57.691051",
     "status": "completed"
    },
    "tags": []
   },
   "outputs": [
    {
     "name": "stdout",
     "output_type": "stream",
     "text": [
      "Model: \"sequential\"\n",
      "_________________________________________________________________\n",
      "Layer (type)                 Output Shape              Param #   \n",
      "=================================================================\n",
      "dense (Dense)                (None, 1024)              5121024   \n",
      "_________________________________________________________________\n",
      "dense_1 (Dense)              (None, 512)               524800    \n",
      "_________________________________________________________________\n",
      "dense_2 (Dense)              (None, 128)               65664     \n",
      "_________________________________________________________________\n",
      "dense_3 (Dense)              (None, 64)                8256      \n",
      "_________________________________________________________________\n",
      "dense_4 (Dense)              (None, 32)                2080      \n",
      "_________________________________________________________________\n",
      "dense_5 (Dense)              (None, 1)                 33        \n",
      "=================================================================\n",
      "Total params: 5,721,857\n",
      "Trainable params: 5,721,857\n",
      "Non-trainable params: 0\n",
      "_________________________________________________________________\n",
      "Epoch 1/300\n",
      "4/4 [==============================] - 2s 231ms/step - loss: 1.1095 - acc: 3.3192e-04 - val_loss: 1.0467 - val_acc: 0.0000e+00\n",
      "Epoch 2/300\n",
      "4/4 [==============================] - 0s 27ms/step - loss: 0.9341 - acc: 9.1786e-04 - val_loss: 0.8400 - val_acc: 0.0000e+00\n",
      "Epoch 3/300\n",
      "4/4 [==============================] - 0s 26ms/step - loss: 0.7921 - acc: 2.0171e-04 - val_loss: 0.7391 - val_acc: 0.0000e+00\n",
      "Epoch 4/300\n",
      "4/4 [==============================] - 0s 28ms/step - loss: 0.6431 - acc: 5.2724e-04 - val_loss: 0.6884 - val_acc: 0.0000e+00\n",
      "Epoch 5/300\n",
      "4/4 [==============================] - 0s 28ms/step - loss: 0.5345 - acc: 9.1786e-04 - val_loss: 0.6392 - val_acc: 0.0000e+00\n",
      "Epoch 6/300\n",
      "4/4 [==============================] - 0s 26ms/step - loss: 0.4592 - acc: 5.2724e-04 - val_loss: 0.6359 - val_acc: 0.0000e+00\n",
      "Epoch 7/300\n",
      "4/4 [==============================] - 0s 30ms/step - loss: 0.3963 - acc: 5.2724e-04 - val_loss: 0.6108 - val_acc: 0.0000e+00\n",
      "Epoch 8/300\n",
      "4/4 [==============================] - 0s 28ms/step - loss: 0.3266 - acc: 3.3192e-04 - val_loss: 0.6352 - val_acc: 0.0000e+00\n",
      "Epoch 9/300\n",
      "4/4 [==============================] - 0s 27ms/step - loss: 0.2852 - acc: 5.2724e-04 - val_loss: 0.6268 - val_acc: 0.0000e+00\n",
      "Epoch 10/300\n",
      "4/4 [==============================] - 0s 27ms/step - loss: 0.2532 - acc: 5.2724e-04 - val_loss: 0.6401 - val_acc: 0.0000e+00\n",
      "Epoch 11/300\n",
      "4/4 [==============================] - 0s 27ms/step - loss: 0.2176 - acc: 9.1786e-04 - val_loss: 0.6412 - val_acc: 0.0000e+00\n",
      "Epoch 12/300\n",
      "4/4 [==============================] - 0s 27ms/step - loss: 0.1976 - acc: 9.1786e-04 - val_loss: 0.6329 - val_acc: 0.0000e+00\n",
      "Epoch 13/300\n",
      "4/4 [==============================] - 0s 28ms/step - loss: 0.1801 - acc: 2.0171e-04 - val_loss: 0.6328 - val_acc: 0.0000e+00\n",
      "Epoch 14/300\n",
      "4/4 [==============================] - 0s 28ms/step - loss: 0.1699 - acc: 5.2724e-04 - val_loss: 0.6365 - val_acc: 0.0000e+00\n",
      "Epoch 15/300\n",
      "4/4 [==============================] - 0s 27ms/step - loss: 0.1625 - acc: 3.3192e-04 - val_loss: 0.6392 - val_acc: 0.0000e+00\n",
      "Epoch 16/300\n",
      "4/4 [==============================] - 0s 28ms/step - loss: 0.1534 - acc: 2.0171e-04 - val_loss: 0.6358 - val_acc: 0.0000e+00\n",
      "Epoch 17/300\n",
      "4/4 [==============================] - 0s 27ms/step - loss: 0.1422 - acc: 2.0171e-04 - val_loss: 0.6334 - val_acc: 0.0000e+00\n",
      "Epoch 18/300\n",
      "4/4 [==============================] - 0s 27ms/step - loss: 0.1438 - acc: 5.2724e-04 - val_loss: 0.6338 - val_acc: 0.0000e+00\n",
      "Epoch 19/300\n",
      "4/4 [==============================] - 0s 27ms/step - loss: 0.1400 - acc: 9.1786e-04 - val_loss: 0.6352 - val_acc: 0.0000e+00\n",
      "Epoch 20/300\n",
      "4/4 [==============================] - 0s 27ms/step - loss: 0.1421 - acc: 5.2724e-04 - val_loss: 0.6364 - val_acc: 0.0000e+00\n",
      "Epoch 21/300\n",
      "4/4 [==============================] - 0s 31ms/step - loss: 0.1388 - acc: 3.3192e-04 - val_loss: 0.6392 - val_acc: 0.0000e+00\n",
      "Epoch 22/300\n",
      "4/4 [==============================] - 0s 27ms/step - loss: 0.1345 - acc: 9.1786e-04 - val_loss: 0.6399 - val_acc: 0.0000e+00\n",
      "Epoch 23/300\n",
      "4/4 [==============================] - 0s 28ms/step - loss: 0.1344 - acc: 3.3192e-04 - val_loss: 0.6409 - val_acc: 0.0000e+00\n",
      "Epoch 24/300\n",
      "4/4 [==============================] - 0s 28ms/step - loss: 0.1318 - acc: 9.1786e-04 - val_loss: 0.6394 - val_acc: 0.0000e+00\n",
      "Epoch 25/300\n",
      "4/4 [==============================] - 0s 27ms/step - loss: 0.1334 - acc: 3.3192e-04 - val_loss: 0.6380 - val_acc: 0.0000e+00\n",
      "Epoch 26/300\n",
      "4/4 [==============================] - 0s 27ms/step - loss: 0.1318 - acc: 9.1786e-04 - val_loss: 0.6379 - val_acc: 0.0000e+00\n",
      "Epoch 27/300\n",
      "4/4 [==============================] - 0s 26ms/step - loss: 0.1313 - acc: 9.1786e-04 - val_loss: 0.6384 - val_acc: 0.0000e+00\n"
     ]
    }
   ],
   "source": [
    "dl_model = keras.Sequential([\n",
    "  \n",
    "    layers.Dense(units=1024, activation='relu', input_shape=[5000]),\n",
    "    layers.Dense(units=512, activation='relu'),\n",
    "    layers.Dense(units=128, activation='relu'),\n",
    "    layers.Dense(units = 64, activation = 'relu'),\n",
    "    layers.Dense(units = 32, activation = 'relu'),\n",
    "    layers.Dense(units=1),\n",
    "])\n",
    "\n",
    "dl_model.summary()\n",
    "\n",
    "\n",
    "# Define an early stopping callback\n",
    "early_stopping = callbacks.EarlyStopping(patience=20,min_delta=0.001,\n",
    "                                        restore_best_weights=True)\n",
    "\n",
    "reduce_lr = callbacks.ReduceLROnPlateau(monitor = 'val_loss', factor = 0.1, \n",
    "                                       patience = 20, min_lr = 0.0001)\n",
    "\n",
    "\n",
    "dl_model.compile(metrics = ['acc'],\n",
    "    optimizer='adam',\n",
    "    loss='mae',\n",
    ")\n",
    "\n",
    "history = dl_model.fit(\n",
    "    X_train, y_train,\n",
    "    validation_data=(X_val, y_val),\n",
    "    batch_size=512,\n",
    "    epochs=300,\n",
    "    callbacks=[early_stopping]\n",
    ")"
   ]
  },
  {
   "cell_type": "code",
   "execution_count": 15,
   "id": "caroline-slovenia",
   "metadata": {
    "execution": {
     "iopub.execute_input": "2021-05-18T22:11:05.802312Z",
     "iopub.status.busy": "2021-05-18T22:11:05.801180Z",
     "iopub.status.idle": "2021-05-18T22:11:06.031152Z",
     "shell.execute_reply": "2021-05-18T22:11:06.031678Z"
    },
    "papermill": {
     "duration": 0.284708,
     "end_time": "2021-05-18T22:11:06.031855",
     "exception": false,
     "start_time": "2021-05-18T22:11:05.747147",
     "status": "completed"
    },
    "tags": []
   },
   "outputs": [
    {
     "name": "stderr",
     "output_type": "stream",
     "text": [
      "/opt/conda/lib/python3.7/site-packages/ipykernel_launcher.py:6: UserWarning: color is redundantly defined by the 'color' keyword argument and the fmt string \"b\" (-> color=(0.0, 0.0, 1.0, 1)). The keyword argument will take precedence.\n",
      "  \n",
      "/opt/conda/lib/python3.7/site-packages/ipykernel_launcher.py:7: UserWarning: color is redundantly defined by the 'color' keyword argument and the fmt string \"bo\" (-> color='b'). The keyword argument will take precedence.\n",
      "  import sys\n"
     ]
    },
    {
     "data": {
      "image/png": "[encoded data removed]",
      "text/plain": [
       "<Figure size 720x360 with 1 Axes>"
      ]
     },
     "metadata": {
      "needs_background": "light"
     },
     "output_type": "display_data"
    }
   ],
   "source": [
    "import matplotlib.pyplot as plt\n",
    "loss = history.history['loss']\n",
    "val_loss = history.history['val_loss']\n",
    "epochs = range(1, len(loss) + 1)\n",
    "plt.figure(figsize=(10,5))\n",
    "plt.plot(epochs, loss, 'b', color='red', label='Training loss')\n",
    "plt.plot(epochs, val_loss, 'bo',color='blue', label='Validation loss')\n",
    "plt.title('Training and validation loss')\n",
    "plt.legend()\n",
    "plt.grid()\n",
    "plt.show()"
   ]
  },
  {
   "cell_type": "code",
   "execution_count": 16,
   "id": "bored-payday",
   "metadata": {
    "execution": {
     "iopub.execute_input": "2021-05-18T22:11:06.129497Z",
     "iopub.status.busy": "2021-05-18T22:11:06.128217Z",
     "iopub.status.idle": "2021-05-18T22:11:06.303624Z",
     "shell.execute_reply": "2021-05-18T22:11:06.304335Z"
    },
    "papermill": {
     "duration": 0.227369,
     "end_time": "2021-05-18T22:11:06.304529",
     "exception": false,
     "start_time": "2021-05-18T22:11:06.077160",
     "status": "completed"
    },
    "tags": []
   },
   "outputs": [
    {
     "name": "stdout",
     "output_type": "stream",
     "text": [
      "Validation MAE for Deep learning Model: 0.6107591574028667\n"
     ]
    }
   ],
   "source": [
    "readable_preds = dl_model.predict(X_val)\n",
    "dl_val_mae = mean_absolute_error(y_val,readable_preds)\n",
    "print(\"Validation MAE for Deep learning Model: {}\".format(dl_val_mae))"
   ]
  },
  {
   "cell_type": "code",
   "execution_count": 17,
   "id": "civilian-calgary",
   "metadata": {
    "execution": {
     "iopub.execute_input": "2021-05-18T22:11:06.408412Z",
     "iopub.status.busy": "2021-05-18T22:11:06.407777Z",
     "iopub.status.idle": "2021-05-18T22:11:06.417432Z",
     "shell.execute_reply": "2021-05-18T22:11:06.416686Z"
    },
    "papermill": {
     "duration": 0.065997,
     "end_time": "2021-05-18T22:11:06.417576",
     "exception": false,
     "start_time": "2021-05-18T22:11:06.351579",
     "status": "completed"
    },
    "tags": []
   },
   "outputs": [],
   "source": [
    "test_data = pd.read_csv(\"../input/commonlitreadabilityprize/test.csv\")"
   ]
  },
  {
   "cell_type": "code",
   "execution_count": 18,
   "id": "resistant-defendant",
   "metadata": {
    "execution": {
     "iopub.execute_input": "2021-05-18T22:11:06.516396Z",
     "iopub.status.busy": "2021-05-18T22:11:06.515727Z",
     "iopub.status.idle": "2021-05-18T22:11:06.519875Z",
     "shell.execute_reply": "2021-05-18T22:11:06.520532Z"
    },
    "papermill": {
     "duration": 0.056489,
     "end_time": "2021-05-18T22:11:06.520724",
     "exception": false,
     "start_time": "2021-05-18T22:11:06.464235",
     "status": "completed"
    },
    "tags": []
   },
   "outputs": [],
   "source": [
    "test_excerpts = test_data[\"excerpt\"]"
   ]
  },
  {
   "cell_type": "code",
   "execution_count": 19,
   "id": "sharing-malawi",
   "metadata": {
    "execution": {
     "iopub.execute_input": "2021-05-18T22:11:06.620178Z",
     "iopub.status.busy": "2021-05-18T22:11:06.619396Z",
     "iopub.status.idle": "2021-05-18T22:11:06.623644Z",
     "shell.execute_reply": "2021-05-18T22:11:06.624349Z"
    },
    "papermill": {
     "duration": 0.056993,
     "end_time": "2021-05-18T22:11:06.624511",
     "exception": false,
     "start_time": "2021-05-18T22:11:06.567518",
     "status": "completed"
    },
    "tags": []
   },
   "outputs": [],
   "source": [
    "test_excerpts = test_excerpts.str.lower()\n",
    "#test_excerpts = test_excerpts.apply(ps.stem)\n",
    "test_excerpts = test_excerpts.apply(wnl.lemmatize)\n",
    "test_excerpts = test_excerpts.apply(lambda text: remove_stopwords(text))"
   ]
  },
  {
   "cell_type": "code",
   "execution_count": 20,
   "id": "upper-class",
   "metadata": {
    "execution": {
     "iopub.execute_input": "2021-05-18T22:11:06.725744Z",
     "iopub.status.busy": "2021-05-18T22:11:06.725149Z",
     "iopub.status.idle": "2021-05-18T22:11:06.729851Z",
     "shell.execute_reply": "2021-05-18T22:11:06.729305Z"
    },
    "papermill": {
     "duration": 0.057493,
     "end_time": "2021-05-18T22:11:06.730033",
     "exception": false,
     "start_time": "2021-05-18T22:11:06.672540",
     "status": "completed"
    },
    "tags": []
   },
   "outputs": [],
   "source": [
    "X_test = vectorizer.transform(test_excerpts)"
   ]
  },
  {
   "cell_type": "code",
   "execution_count": 21,
   "id": "wrong-journal",
   "metadata": {
    "execution": {
     "iopub.execute_input": "2021-05-18T22:11:06.830903Z",
     "iopub.status.busy": "2021-05-18T22:11:06.830138Z",
     "iopub.status.idle": "2021-05-18T22:11:06.833658Z",
     "shell.execute_reply": "2021-05-18T22:11:06.834167Z"
    },
    "papermill": {
     "duration": 0.058256,
     "end_time": "2021-05-18T22:11:06.834319",
     "exception": false,
     "start_time": "2021-05-18T22:11:06.776063",
     "status": "completed"
    },
    "tags": []
   },
   "outputs": [],
   "source": [
    "X_test = vec.transform(test_excerpts).toarray()"
   ]
  },
  {
   "cell_type": "code",
   "execution_count": 22,
   "id": "efficient-cancer",
   "metadata": {
    "execution": {
     "iopub.execute_input": "2021-05-18T22:11:06.934383Z",
     "iopub.status.busy": "2021-05-18T22:11:06.933215Z",
     "iopub.status.idle": "2021-05-18T22:11:06.979843Z",
     "shell.execute_reply": "2021-05-18T22:11:06.979248Z"
    },
    "papermill": {
     "duration": 0.098601,
     "end_time": "2021-05-18T22:11:06.979993",
     "exception": false,
     "start_time": "2021-05-18T22:11:06.881392",
     "status": "completed"
    },
    "tags": []
   },
   "outputs": [],
   "source": [
    "test_preds = dl_model.predict(X_test)"
   ]
  },
  {
   "cell_type": "code",
   "execution_count": 23,
   "id": "everyday-dialogue",
   "metadata": {
    "execution": {
     "iopub.execute_input": "2021-05-18T22:11:07.087335Z",
     "iopub.status.busy": "2021-05-18T22:11:07.086624Z",
     "iopub.status.idle": "2021-05-18T22:11:07.269333Z",
     "shell.execute_reply": "2021-05-18T22:11:07.268038Z"
    },
    "papermill": {
     "duration": 0.240173,
     "end_time": "2021-05-18T22:11:07.269527",
     "exception": false,
     "start_time": "2021-05-18T22:11:07.029354",
     "status": "completed"
    },
    "tags": []
   },
   "outputs": [
    {
     "data": {
      "text/html": [
       "<div>\n",
       "<style scoped>\n",
       "    .dataframe tbody tr th:only-of-type {\n",
       "        vertical-align: middle;\n",
       "    }\n",
       "\n",
       "    .dataframe tbody tr th {\n",
       "        vertical-align: top;\n",
       "    }\n",
       "\n",
       "    .dataframe thead th {\n",
       "        text-align: right;\n",
       "    }\n",
       "</style>\n",
       "<table border=\"1\" class=\"dataframe\">\n",
       "  <thead>\n",
       "    <tr style=\"text-align: right;\">\n",
       "      <th></th>\n",
       "      <th>id</th>\n",
       "      <th>target</th>\n",
       "    </tr>\n",
       "  </thead>\n",
       "  <tbody>\n",
       "    <tr>\n",
       "      <th>0</th>\n",
       "      <td>c0f722661</td>\n",
       "      <td>-1.488201</td>\n",
       "    </tr>\n",
       "    <tr>\n",
       "      <th>1</th>\n",
       "      <td>f0953f0a5</td>\n",
       "      <td>-0.415445</td>\n",
       "    </tr>\n",
       "    <tr>\n",
       "      <th>2</th>\n",
       "      <td>0df072751</td>\n",
       "      <td>-0.594510</td>\n",
       "    </tr>\n",
       "    <tr>\n",
       "      <th>3</th>\n",
       "      <td>04caf4e0c</td>\n",
       "      <td>-1.453715</td>\n",
       "    </tr>\n",
       "    <tr>\n",
       "      <th>4</th>\n",
       "      <td>0e63f8bea</td>\n",
       "      <td>-1.402604</td>\n",
       "    </tr>\n",
       "    <tr>\n",
       "      <th>5</th>\n",
       "      <td>12537fe78</td>\n",
       "      <td>-0.611850</td>\n",
       "    </tr>\n",
       "    <tr>\n",
       "      <th>6</th>\n",
       "      <td>965e592c0</td>\n",
       "      <td>-0.414111</td>\n",
       "    </tr>\n",
       "  </tbody>\n",
       "</table>\n",
       "</div>"
      ],
      "text/plain": [
       "          id    target\n",
       "0  c0f722661 -1.488201\n",
       "1  f0953f0a5 -0.415445\n",
       "2  0df072751 -0.594510\n",
       "3  04caf4e0c -1.453715\n",
       "4  0e63f8bea -1.402604\n",
       "5  12537fe78 -0.611850\n",
       "6  965e592c0 -0.414111"
      ]
     },
     "execution_count": 23,
     "metadata": {},
     "output_type": "execute_result"
    }
   ],
   "source": [
    "x_sub = test_data[[\"id\"]].copy()\n",
    "x_sub[\"target\"] = test_preds\n",
    "x_sub.to_csv('submission.csv', index = False)\n",
    "x_sub"
   ]
  }
 ],
 "metadata": {
  "kernelspec": {
   "display_name": "Python 3",
   "language": "python",
   "name": "python3"
  },
  "language_info": {
   "codemirror_mode": {
    "name": "ipython",
    "version": 3
   },
   "file_extension": ".py",
   "mimetype": "text/x-python",
   "name": "python",
   "nbconvert_exporter": "python",
   "pygments_lexer": "ipython3",
   "version": "3.7.10"
  },
  "papermill": {
   "default_parameters": {},
   "duration": 31.850821,
   "end_time": "2021-05-18T22:11:09.386291",
   "environment_variables": {},
   "exception": null,
   "input_path": "__notebook__.ipynb",
   "output_path": "__notebook__.ipynb",
   "parameters": {},
   "start_time": "2021-05-18T22:10:37.535470",
   "version": "2.3.3"
  }
 },
 "nbformat": 4,
 "nbformat_minor": 5
}
