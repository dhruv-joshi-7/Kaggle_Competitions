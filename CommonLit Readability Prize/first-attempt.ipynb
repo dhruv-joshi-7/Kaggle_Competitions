{
 "cells": [
  {
   "cell_type": "code",
   "execution_count": 1,
   "id": "minimal-pharmacy",
   "metadata": {
    "execution": {
     "iopub.execute_input": "2021-05-17T12:16:56.197603Z",
     "iopub.status.busy": "2021-05-17T12:16:56.196122Z",
     "iopub.status.idle": "2021-05-17T12:17:04.356028Z",
     "shell.execute_reply": "2021-05-17T12:17:04.355400Z"
    },
    "papermill": {
     "duration": 8.175274,
     "end_time": "2021-05-17T12:17:04.356185",
     "exception": false,
     "start_time": "2021-05-17T12:16:56.180911",
     "status": "completed"
    },
    "tags": []
   },
   "outputs": [],
   "source": [
    "from tensorflow.compat.v1 import ConfigProto\n",
    "from tensorflow.compat.v1 import InteractiveSession\n",
    "\n",
    "config = ConfigProto()\n",
    "config.gpu_options.allow_growth = True\n",
    "session = InteractiveSession(config=config)"
   ]
  },
  {
   "cell_type": "code",
   "execution_count": 2,
   "id": "single-answer",
   "metadata": {
    "execution": {
     "iopub.execute_input": "2021-05-17T12:17:04.384074Z",
     "iopub.status.busy": "2021-05-17T12:17:04.383375Z",
     "iopub.status.idle": "2021-05-17T12:17:05.752924Z",
     "shell.execute_reply": "2021-05-17T12:17:05.752368Z"
    },
    "papermill": {
     "duration": 1.385742,
     "end_time": "2021-05-17T12:17:05.753059",
     "exception": false,
     "start_time": "2021-05-17T12:17:04.367317",
     "status": "completed"
    },
    "tags": []
   },
   "outputs": [],
   "source": [
    "import numpy as np # linear algebra\n",
    "import pandas as pd # data processing, CSV file I/O (e.g. pd.read_csv)\n",
    "import os\n",
    "from tensorflow.keras.layers import *\n",
    "from tensorflow.keras.preprocessing.text import *\n",
    "from tensorflow.keras.preprocessing.sequence import *\n",
    "from tensorflow.keras.models import *\n",
    "import tensorflow.keras.backend as k\n",
    "from tensorflow.keras.optimizers import *\n",
    "from sklearn.model_selection import train_test_split,StratifiedKFold\n",
    "from tensorflow.keras.callbacks import *\n",
    "from nltk.corpus import *\n",
    "from nltk.stem import *\n",
    "import string\n",
    "from sklearn.preprocessing import *\n",
    "from tqdm import tqdm"
   ]
  },
  {
   "cell_type": "code",
   "execution_count": 3,
   "id": "final-paraguay",
   "metadata": {
    "execution": {
     "iopub.execute_input": "2021-05-17T12:17:05.780201Z",
     "iopub.status.busy": "2021-05-17T12:17:05.779703Z",
     "iopub.status.idle": "2021-05-17T12:17:05.865340Z",
     "shell.execute_reply": "2021-05-17T12:17:05.864892Z"
    },
    "papermill": {
     "duration": 0.101966,
     "end_time": "2021-05-17T12:17:05.865454",
     "exception": false,
     "start_time": "2021-05-17T12:17:05.763488",
     "status": "completed"
    },
    "tags": []
   },
   "outputs": [],
   "source": [
    "train_df=pd.read_csv('../input/commonlitreadabilityprize/train.csv')\n",
    "test_df=pd.read_csv('../input/commonlitreadabilityprize/test.csv')\n",
    "sample_sub=pd.read_csv('../input/commonlitreadabilityprize/sample_submission.csv')"
   ]
  },
  {
   "cell_type": "code",
   "execution_count": 4,
   "id": "desperate-container",
   "metadata": {
    "execution": {
     "iopub.execute_input": "2021-05-17T12:17:05.891069Z",
     "iopub.status.busy": "2021-05-17T12:17:05.890533Z",
     "iopub.status.idle": "2021-05-17T12:20:57.226986Z",
     "shell.execute_reply": "2021-05-17T12:20:57.226386Z"
    },
    "papermill": {
     "duration": 231.351066,
     "end_time": "2021-05-17T12:20:57.227160",
     "exception": false,
     "start_time": "2021-05-17T12:17:05.876094",
     "status": "completed"
    },
    "tags": []
   },
   "outputs": [
    {
     "name": "stderr",
     "output_type": "stream",
     "text": [
      "2196018it [03:51, 9493.58it/s]\n"
     ]
    }
   ],
   "source": [
    "#Load Word Embeddings\n",
    "embedding_path='../input/glove840b300dtxt/glove.840B.300d.txt'\n",
    "embedding_dict={}\n",
    "embd_file=open(embedding_path,'r',errors = 'ignore',encoding='utf8')\n",
    "for line in tqdm(embd_file):\n",
    "    values=line.split(' ')\n",
    "    word=values[0]\n",
    "    coef=np.asarray(values[1:],dtype='float32')\n",
    "    embedding_dict[word]=coef\n",
    "embd_file.close()"
   ]
  },
  {
   "cell_type": "code",
   "execution_count": 5,
   "id": "dress-coalition",
   "metadata": {
    "execution": {
     "iopub.execute_input": "2021-05-17T12:20:58.407778Z",
     "iopub.status.busy": "2021-05-17T12:20:58.407147Z",
     "iopub.status.idle": "2021-05-17T12:20:58.423392Z",
     "shell.execute_reply": "2021-05-17T12:20:58.422874Z"
    },
    "papermill": {
     "duration": 0.603879,
     "end_time": "2021-05-17T12:20:58.423528",
     "exception": false,
     "start_time": "2021-05-17T12:20:57.819649",
     "status": "completed"
    },
    "tags": []
   },
   "outputs": [],
   "source": [
    "#Clean Text\n",
    "sp=stopwords.words('english')\n",
    "lm=WordNetLemmatizer()\n",
    "\n",
    "def clean_text(df):\n",
    "    #Remove punctuation\n",
    "    print('Cleaning Punctuations')\n",
    "    cleaned_text=[txt.translate(str.maketrans('','',string.punctuation)) for txt in df['excerpt']]\n",
    "\n",
    "    print('Cleaning numbers')\n",
    "    cleaned_text=[' '.join([i for i in txt.lower().split() if i.isalpha()]) for txt in cleaned_text]\n",
    "\n",
    "    print('Cleaning Stopwords')\n",
    "    cleaned_text=[' '.join(i for i in txt.split() if i not in sp) for txt in cleaned_text]\n",
    "    \n",
    "    #Normalize Word\n",
    "    print('Word Normalizing')\n",
    "    cleaned_text=[' '.join(lm.lemmatize(i) for i in txt.split()) for txt in cleaned_text]\n",
    "    \n",
    "    return cleaned_text"
   ]
  },
  {
   "cell_type": "code",
   "execution_count": 6,
   "id": "accredited-submission",
   "metadata": {
    "execution": {
     "iopub.execute_input": "2021-05-17T12:20:59.872192Z",
     "iopub.status.busy": "2021-05-17T12:20:59.856420Z",
     "iopub.status.idle": "2021-05-17T12:21:03.483939Z",
     "shell.execute_reply": "2021-05-17T12:21:03.483428Z"
    },
    "papermill": {
     "duration": 4.481978,
     "end_time": "2021-05-17T12:21:03.484078",
     "exception": false,
     "start_time": "2021-05-17T12:20:59.002100",
     "status": "completed"
    },
    "tags": []
   },
   "outputs": [
    {
     "name": "stdout",
     "output_type": "stream",
     "text": [
      "Cleaning Punctuations\n",
      "Cleaning numbers\n",
      "Cleaning Stopwords\n",
      "Word Normalizing\n"
     ]
    }
   ],
   "source": [
    "train_cleaned=clean_text(train_df)"
   ]
  },
  {
   "cell_type": "code",
   "execution_count": 7,
   "id": "invalid-platinum",
   "metadata": {
    "execution": {
     "iopub.execute_input": "2021-05-17T12:21:04.635033Z",
     "iopub.status.busy": "2021-05-17T12:21:04.634235Z",
     "iopub.status.idle": "2021-05-17T12:21:05.020946Z",
     "shell.execute_reply": "2021-05-17T12:21:05.021570Z"
    },
    "papermill": {
     "duration": 0.976918,
     "end_time": "2021-05-17T12:21:05.021766",
     "exception": false,
     "start_time": "2021-05-17T12:21:04.044848",
     "status": "completed"
    },
    "tags": []
   },
   "outputs": [
    {
     "name": "stdout",
     "output_type": "stream",
     "text": [
      "Word Tokenization and Transforming\n",
      "Tokenization Done!\n"
     ]
    }
   ],
   "source": [
    "maxlen_=500\n",
    "max_words=20000\n",
    "print('Word Tokenization and Transforming')\n",
    "tokenizer=Tokenizer(num_words=max_words)\n",
    "tokenizer.fit_on_texts(train_cleaned)\n",
    "sequences=tokenizer.texts_to_sequences(train_cleaned)\n",
    "train_data_preped=pad_sequences(sequences,maxlen=maxlen_)\n",
    "word_index=tokenizer.word_index\n",
    "print('Tokenization Done!')"
   ]
  },
  {
   "cell_type": "code",
   "execution_count": 8,
   "id": "alpha-angle",
   "metadata": {
    "execution": {
     "iopub.execute_input": "2021-05-17T12:21:06.163444Z",
     "iopub.status.busy": "2021-05-17T12:21:06.162599Z",
     "iopub.status.idle": "2021-05-17T12:21:06.253956Z",
     "shell.execute_reply": "2021-05-17T12:21:06.252690Z"
    },
    "papermill": {
     "duration": 0.661513,
     "end_time": "2021-05-17T12:21:06.254084",
     "exception": false,
     "start_time": "2021-05-17T12:21:05.592571",
     "status": "completed"
    },
    "tags": []
   },
   "outputs": [
    {
     "name": "stderr",
     "output_type": "stream",
     "text": [
      "100%|██████████| 24535/24535 [00:00<00:00, 292606.17it/s]"
     ]
    },
    {
     "name": "stdout",
     "output_type": "stream",
     "text": [
      "Loading Embedding Matrix..\n",
      "\n"
     ]
    },
    {
     "name": "stderr",
     "output_type": "stream",
     "text": [
      "\n"
     ]
    }
   ],
   "source": [
    "embedding_matrix=np.zeros((max_words,300))\n",
    "print('Loading Embedding Matrix..\\n')\n",
    "for word,ix in tqdm(word_index.items()):\n",
    "    if ix<max_words:\n",
    "        embed_vec=embedding_dict.get(word)\n",
    "        if embed_vec is not None:\n",
    "            embedding_matrix[ix]=embed_vec"
   ]
  },
  {
   "cell_type": "code",
   "execution_count": 9,
   "id": "higher-spectacular",
   "metadata": {
    "execution": {
     "iopub.execute_input": "2021-05-17T12:21:07.390533Z",
     "iopub.status.busy": "2021-05-17T12:21:07.389609Z",
     "iopub.status.idle": "2021-05-17T12:21:07.396956Z",
     "shell.execute_reply": "2021-05-17T12:21:07.396534Z"
    },
    "papermill": {
     "duration": 0.577529,
     "end_time": "2021-05-17T12:21:07.397063",
     "exception": false,
     "start_time": "2021-05-17T12:21:06.819534",
     "status": "completed"
    },
    "tags": []
   },
   "outputs": [
    {
     "name": "stdout",
     "output_type": "stream",
     "text": [
      "Size of Train:  (2408, 500)\n",
      "Size of Validation:  (426, 500)\n"
     ]
    }
   ],
   "source": [
    "X_train,X_val,y_train,y_val=train_test_split(train_data_preped,train_df['target'],test_size=0.15)\n",
    "print('Size of Train: ',X_train.shape)\n",
    "print('Size of Validation: ',X_val.shape)"
   ]
  },
  {
   "cell_type": "code",
   "execution_count": 10,
   "id": "logical-shoulder",
   "metadata": {
    "execution": {
     "iopub.execute_input": "2021-05-17T12:21:08.538421Z",
     "iopub.status.busy": "2021-05-17T12:21:08.537891Z",
     "iopub.status.idle": "2021-05-17T12:21:09.491413Z",
     "shell.execute_reply": "2021-05-17T12:21:09.490530Z"
    },
    "papermill": {
     "duration": 1.531062,
     "end_time": "2021-05-17T12:21:09.491567",
     "exception": false,
     "start_time": "2021-05-17T12:21:07.960505",
     "status": "completed"
    },
    "tags": []
   },
   "outputs": [
    {
     "name": "stdout",
     "output_type": "stream",
     "text": [
      "Model: \"model\"\n",
      "_________________________________________________________________\n",
      "Layer (type)                 Output Shape              Param #   \n",
      "=================================================================\n",
      "input_1 (InputLayer)         [(None, 500)]             0         \n",
      "_________________________________________________________________\n",
      "embedding (Embedding)        (None, 500, 300)          6000000   \n",
      "_________________________________________________________________\n",
      "bidirectional (Bidirectional (None, 500, 512)          1140736   \n",
      "_________________________________________________________________\n",
      "conv1d (Conv1D)              (None, 250, 16)           40976     \n",
      "_________________________________________________________________\n",
      "activation (Activation)      (None, 250, 16)           0         \n",
      "_________________________________________________________________\n",
      "conv1d_1 (Conv1D)            (None, 125, 32)           1568      \n",
      "_________________________________________________________________\n",
      "activation_1 (Activation)    (None, 125, 32)           0         \n",
      "_________________________________________________________________\n",
      "conv1d_2 (Conv1D)            (None, 32, 64)            6208      \n",
      "_________________________________________________________________\n",
      "activation_2 (Activation)    (None, 32, 64)            0         \n",
      "_________________________________________________________________\n",
      "conv1d_3 (Conv1D)            (None, 8, 128)            24704     \n",
      "_________________________________________________________________\n",
      "activation_3 (Activation)    (None, 8, 128)            0         \n",
      "_________________________________________________________________\n",
      "gru (GRU)                    (None, 256)               296448    \n",
      "_________________________________________________________________\n",
      "dense (Dense)                (None, 128)               32896     \n",
      "_________________________________________________________________\n",
      "dense_1 (Dense)              (None, 64)                8256      \n",
      "_________________________________________________________________\n",
      "dense_2 (Dense)              (None, 1)                 65        \n",
      "=================================================================\n",
      "Total params: 7,551,857\n",
      "Trainable params: 7,551,857\n",
      "Non-trainable params: 0\n",
      "_________________________________________________________________\n"
     ]
    }
   ],
   "source": [
    "inp=Input(maxlen_)\n",
    "x=Embedding(max_words,300)(inp)\n",
    "x=Bidirectional(LSTM(256, return_sequences = True))(x)\n",
    "\n",
    "#x = LSTM(256, return_sequences = True)(x)\n",
    "#x = LSTM(256, return_sequences = True)(x)\n",
    "\n",
    "#x = AveragePooling1D(pool_size = maxlen_)(x)\n",
    "\n",
    "x=Conv1D(16,5,strides=2,padding='same')(x)\n",
    "x=Activation('relu')(x)\n",
    "\n",
    "x=Conv1D(32,3,strides=2,padding='same')(x)\n",
    "x=Activation('relu')(x)\n",
    "\n",
    "x=Conv1D(64,3,strides=4,padding='same')(x)\n",
    "x=Activation('relu')(x)\n",
    "\n",
    "x=Conv1D(128,3,strides=4,padding='same')(x)\n",
    "x=Activation('relu')(x)\n",
    "\n",
    "x=GRU(256)(x)\n",
    "x=Dense(128,activation='relu')(x)\n",
    "x = Dense(64, activation = 'relu')(x)\n",
    "out=Dense(1)(x)\n",
    "model=Model(inp,out)\n",
    "model.summary()\n"
   ]
  },
  {
   "cell_type": "code",
   "execution_count": 11,
   "id": "timely-importance",
   "metadata": {
    "execution": {
     "iopub.execute_input": "2021-05-17T12:21:10.852045Z",
     "iopub.status.busy": "2021-05-17T12:21:10.850955Z",
     "iopub.status.idle": "2021-05-17T12:21:10.878263Z",
     "shell.execute_reply": "2021-05-17T12:21:10.878669Z"
    },
    "papermill": {
     "duration": 0.783837,
     "end_time": "2021-05-17T12:21:10.878858",
     "exception": false,
     "start_time": "2021-05-17T12:21:10.095021",
     "status": "completed"
    },
    "tags": []
   },
   "outputs": [],
   "source": [
    "model.layers[1].set_weights([embedding_matrix])\n",
    "model.layers[1].trainable=True"
   ]
  },
  {
   "cell_type": "code",
   "execution_count": 12,
   "id": "sophisticated-subscriber",
   "metadata": {
    "execution": {
     "iopub.execute_input": "2021-05-17T12:21:12.121301Z",
     "iopub.status.busy": "2021-05-17T12:21:12.120547Z",
     "iopub.status.idle": "2021-05-17T12:21:12.131535Z",
     "shell.execute_reply": "2021-05-17T12:21:12.132487Z"
    },
    "papermill": {
     "duration": 0.681137,
     "end_time": "2021-05-17T12:21:12.132693",
     "exception": false,
     "start_time": "2021-05-17T12:21:11.451556",
     "status": "completed"
    },
    "tags": []
   },
   "outputs": [],
   "source": [
    "def rmse(y_true, y_pred):\n",
    "        return k.sqrt(k.mean(k.square(y_pred - y_true))) \n",
    "    \n",
    "model.compile(loss=rmse,optimizer=RMSprop(0.0001))\n",
    "#Callbacks\n",
    "rop = ReduceLROnPlateau(min_lr=0.000001,patience=2)\n",
    "mc = ModelCheckpoint('model.h5',save_freq='epoch')\n",
    "es = EarlyStopping(monitor='acc',patience=5,)"
   ]
  },
  {
   "cell_type": "code",
   "execution_count": 13,
   "id": "tender-iraqi",
   "metadata": {
    "execution": {
     "iopub.execute_input": "2021-05-17T12:21:13.632327Z",
     "iopub.status.busy": "2021-05-17T12:21:13.631815Z",
     "iopub.status.idle": "2021-05-17T12:33:10.920023Z",
     "shell.execute_reply": "2021-05-17T12:33:10.919463Z"
    },
    "papermill": {
     "duration": 717.870345,
     "end_time": "2021-05-17T12:33:10.920151",
     "exception": false,
     "start_time": "2021-05-17T12:21:13.049806",
     "status": "completed"
    },
    "tags": []
   },
   "outputs": [
    {
     "name": "stdout",
     "output_type": "stream",
     "text": [
      "Epoch 1/150\n",
      "19/19 [==============================] - 16s 320ms/step - loss: 1.2424 - val_loss: 0.9644\n",
      "Epoch 2/150\n",
      "19/19 [==============================] - 4s 237ms/step - loss: 0.8610 - val_loss: 0.8362\n",
      "Epoch 3/150\n",
      "19/19 [==============================] - 4s 237ms/step - loss: 0.7599 - val_loss: 0.7607\n",
      "Epoch 4/150\n",
      "19/19 [==============================] - 5s 240ms/step - loss: 0.7034 - val_loss: 0.7560\n",
      "Epoch 5/150\n",
      "19/19 [==============================] - 5s 244ms/step - loss: 0.6880 - val_loss: 0.7227\n",
      "Epoch 6/150\n",
      "19/19 [==============================] - 4s 236ms/step - loss: 0.6758 - val_loss: 0.7183\n",
      "Epoch 7/150\n",
      "19/19 [==============================] - 5s 238ms/step - loss: 0.6657 - val_loss: 0.7099\n",
      "Epoch 8/150\n",
      "19/19 [==============================] - 4s 237ms/step - loss: 0.6344 - val_loss: 0.7220\n",
      "Epoch 9/150\n",
      "19/19 [==============================] - 5s 239ms/step - loss: 0.6534 - val_loss: 0.7053\n",
      "Epoch 10/150\n",
      "19/19 [==============================] - 4s 234ms/step - loss: 0.6312 - val_loss: 0.7326\n",
      "Epoch 11/150\n",
      "19/19 [==============================] - 5s 241ms/step - loss: 0.6085 - val_loss: 0.7892\n",
      "Epoch 12/150\n",
      "19/19 [==============================] - 5s 238ms/step - loss: 0.6119 - val_loss: 0.6976\n",
      "Epoch 13/150\n",
      "19/19 [==============================] - 4s 237ms/step - loss: 0.5624 - val_loss: 0.6978\n",
      "Epoch 14/150\n",
      "19/19 [==============================] - 5s 241ms/step - loss: 0.5623 - val_loss: 0.6968\n",
      "Epoch 15/150\n",
      "19/19 [==============================] - 5s 239ms/step - loss: 0.5437 - val_loss: 0.6965\n",
      "Epoch 16/150\n",
      "19/19 [==============================] - 5s 239ms/step - loss: 0.5525 - val_loss: 0.6974\n",
      "Epoch 17/150\n",
      "19/19 [==============================] - 4s 234ms/step - loss: 0.5544 - val_loss: 0.6960\n",
      "Epoch 18/150\n",
      "19/19 [==============================] - 5s 250ms/step - loss: 0.5482 - val_loss: 0.6958\n",
      "Epoch 19/150\n",
      "19/19 [==============================] - 4s 236ms/step - loss: 0.5502 - val_loss: 0.6997\n",
      "Epoch 20/150\n",
      "19/19 [==============================] - 4s 235ms/step - loss: 0.5528 - val_loss: 0.6960\n",
      "Epoch 21/150\n",
      "19/19 [==============================] - 5s 240ms/step - loss: 0.5453 - val_loss: 0.6962\n",
      "Epoch 22/150\n",
      "19/19 [==============================] - 4s 237ms/step - loss: 0.5451 - val_loss: 0.6961\n",
      "Epoch 23/150\n",
      "19/19 [==============================] - 4s 237ms/step - loss: 0.5417 - val_loss: 0.6963\n",
      "Epoch 24/150\n",
      "19/19 [==============================] - 4s 237ms/step - loss: 0.5417 - val_loss: 0.6963\n",
      "Epoch 25/150\n",
      "19/19 [==============================] - 5s 242ms/step - loss: 0.5315 - val_loss: 0.6962\n",
      "Epoch 26/150\n",
      "19/19 [==============================] - 4s 237ms/step - loss: 0.5500 - val_loss: 0.6963\n",
      "Epoch 27/150\n",
      "19/19 [==============================] - 4s 237ms/step - loss: 0.5448 - val_loss: 0.6963\n",
      "Epoch 28/150\n",
      "19/19 [==============================] - 5s 242ms/step - loss: 0.5412 - val_loss: 0.6964\n",
      "Epoch 29/150\n",
      "19/19 [==============================] - 4s 238ms/step - loss: 0.5367 - val_loss: 0.6965\n",
      "Epoch 30/150\n",
      "19/19 [==============================] - 4s 237ms/step - loss: 0.5376 - val_loss: 0.6963\n",
      "Epoch 31/150\n",
      "19/19 [==============================] - 5s 239ms/step - loss: 0.5404 - val_loss: 0.6964\n",
      "Epoch 32/150\n",
      "19/19 [==============================] - 5s 245ms/step - loss: 0.5424 - val_loss: 0.6964\n",
      "Epoch 33/150\n",
      "19/19 [==============================] - 4s 237ms/step - loss: 0.5297 - val_loss: 0.6964\n",
      "Epoch 34/150\n",
      "19/19 [==============================] - 4s 236ms/step - loss: 0.5429 - val_loss: 0.6963\n",
      "Epoch 35/150\n",
      "19/19 [==============================] - 5s 238ms/step - loss: 0.5347 - val_loss: 0.6963\n",
      "Epoch 36/150\n",
      "19/19 [==============================] - 5s 240ms/step - loss: 0.5345 - val_loss: 0.6964\n",
      "Epoch 37/150\n",
      "19/19 [==============================] - 4s 237ms/step - loss: 0.5317 - val_loss: 0.6963\n",
      "Epoch 38/150\n",
      "19/19 [==============================] - 5s 240ms/step - loss: 0.5365 - val_loss: 0.6965\n",
      "Epoch 39/150\n",
      "19/19 [==============================] - 5s 242ms/step - loss: 0.5287 - val_loss: 0.6965\n",
      "Epoch 40/150\n",
      "19/19 [==============================] - 4s 236ms/step - loss: 0.5446 - val_loss: 0.6964\n",
      "Epoch 41/150\n",
      "19/19 [==============================] - 5s 238ms/step - loss: 0.5343 - val_loss: 0.6964\n",
      "Epoch 42/150\n",
      "19/19 [==============================] - 5s 238ms/step - loss: 0.5294 - val_loss: 0.6965\n",
      "Epoch 43/150\n",
      "19/19 [==============================] - 4s 237ms/step - loss: 0.5310 - val_loss: 0.6965\n",
      "Epoch 44/150\n",
      "19/19 [==============================] - 4s 237ms/step - loss: 0.5284 - val_loss: 0.6965\n",
      "Epoch 45/150\n",
      "19/19 [==============================] - 5s 241ms/step - loss: 0.5313 - val_loss: 0.6965\n",
      "Epoch 46/150\n",
      "19/19 [==============================] - 5s 243ms/step - loss: 0.5326 - val_loss: 0.6968\n",
      "Epoch 47/150\n",
      "19/19 [==============================] - 5s 239ms/step - loss: 0.5334 - val_loss: 0.6967\n",
      "Epoch 48/150\n",
      "19/19 [==============================] - 4s 236ms/step - loss: 0.5590 - val_loss: 0.6965\n",
      "Epoch 49/150\n",
      "19/19 [==============================] - 5s 239ms/step - loss: 0.5392 - val_loss: 0.6965\n",
      "Epoch 50/150\n",
      "19/19 [==============================] - 4s 236ms/step - loss: 0.5458 - val_loss: 0.6965\n",
      "Epoch 51/150\n",
      "19/19 [==============================] - 5s 245ms/step - loss: 0.5246 - val_loss: 0.6966\n",
      "Epoch 52/150\n",
      "19/19 [==============================] - 5s 239ms/step - loss: 0.5271 - val_loss: 0.6966\n",
      "Epoch 53/150\n",
      "19/19 [==============================] - 5s 243ms/step - loss: 0.5333 - val_loss: 0.6966\n",
      "Epoch 54/150\n",
      "19/19 [==============================] - 4s 238ms/step - loss: 0.5373 - val_loss: 0.6968\n",
      "Epoch 55/150\n",
      "19/19 [==============================] - 4s 238ms/step - loss: 0.5372 - val_loss: 0.6968\n",
      "Epoch 56/150\n",
      "19/19 [==============================] - 5s 240ms/step - loss: 0.5299 - val_loss: 0.6967\n",
      "Epoch 57/150\n",
      "19/19 [==============================] - 4s 236ms/step - loss: 0.5420 - val_loss: 0.6966\n",
      "Epoch 58/150\n",
      "19/19 [==============================] - 5s 248ms/step - loss: 0.5466 - val_loss: 0.6965\n",
      "Epoch 59/150\n",
      "19/19 [==============================] - 4s 236ms/step - loss: 0.5240 - val_loss: 0.6965\n",
      "Epoch 60/150\n",
      "19/19 [==============================] - 4s 237ms/step - loss: 0.5300 - val_loss: 0.6967\n",
      "Epoch 61/150\n",
      "19/19 [==============================] - 4s 236ms/step - loss: 0.5278 - val_loss: 0.6966\n",
      "Epoch 62/150\n",
      "19/19 [==============================] - 4s 237ms/step - loss: 0.5310 - val_loss: 0.6966\n",
      "Epoch 63/150\n",
      "19/19 [==============================] - 4s 237ms/step - loss: 0.5314 - val_loss: 0.6966\n",
      "Epoch 64/150\n",
      "19/19 [==============================] - 4s 236ms/step - loss: 0.5387 - val_loss: 0.6967\n",
      "Epoch 65/150\n",
      "19/19 [==============================] - 5s 243ms/step - loss: 0.5252 - val_loss: 0.6967\n",
      "Epoch 66/150\n",
      "19/19 [==============================] - 5s 240ms/step - loss: 0.5317 - val_loss: 0.6968\n",
      "Epoch 67/150\n",
      "19/19 [==============================] - 5s 241ms/step - loss: 0.5341 - val_loss: 0.6969\n",
      "Epoch 68/150\n",
      "19/19 [==============================] - 4s 236ms/step - loss: 0.5418 - val_loss: 0.6968\n",
      "Epoch 69/150\n",
      "19/19 [==============================] - 4s 235ms/step - loss: 0.5291 - val_loss: 0.6969\n",
      "Epoch 70/150\n",
      "19/19 [==============================] - 5s 239ms/step - loss: 0.5350 - val_loss: 0.6968\n",
      "Epoch 71/150\n",
      "19/19 [==============================] - 5s 242ms/step - loss: 0.5212 - val_loss: 0.6968\n",
      "Epoch 72/150\n",
      "19/19 [==============================] - 5s 238ms/step - loss: 0.5334 - val_loss: 0.6970\n",
      "Epoch 73/150\n",
      "19/19 [==============================] - 5s 240ms/step - loss: 0.5323 - val_loss: 0.6971\n",
      "Epoch 74/150\n",
      "19/19 [==============================] - 4s 235ms/step - loss: 0.5419 - val_loss: 0.6969\n",
      "Epoch 75/150\n",
      "19/19 [==============================] - 4s 236ms/step - loss: 0.5346 - val_loss: 0.6968\n",
      "Epoch 76/150\n",
      "19/19 [==============================] - 4s 235ms/step - loss: 0.5103 - val_loss: 0.6969\n",
      "Epoch 77/150\n",
      "19/19 [==============================] - 5s 239ms/step - loss: 0.5252 - val_loss: 0.6969\n",
      "Epoch 78/150\n",
      "19/19 [==============================] - 5s 240ms/step - loss: 0.5294 - val_loss: 0.6971\n",
      "Epoch 79/150\n",
      "19/19 [==============================] - 4s 237ms/step - loss: 0.5225 - val_loss: 0.6969\n",
      "Epoch 80/150\n",
      "19/19 [==============================] - 4s 237ms/step - loss: 0.5326 - val_loss: 0.6968\n",
      "Epoch 81/150\n",
      "19/19 [==============================] - 4s 237ms/step - loss: 0.5202 - val_loss: 0.6969\n",
      "Epoch 82/150\n",
      "19/19 [==============================] - 4s 235ms/step - loss: 0.5197 - val_loss: 0.6969\n",
      "Epoch 83/150\n",
      "19/19 [==============================] - 4s 237ms/step - loss: 0.5098 - val_loss: 0.6969\n",
      "Epoch 84/150\n",
      "19/19 [==============================] - 5s 240ms/step - loss: 0.5206 - val_loss: 0.6970\n",
      "Epoch 85/150\n",
      "19/19 [==============================] - 5s 243ms/step - loss: 0.5226 - val_loss: 0.6969\n",
      "Epoch 86/150\n",
      "19/19 [==============================] - 4s 238ms/step - loss: 0.5223 - val_loss: 0.6972\n",
      "Epoch 87/150\n",
      "19/19 [==============================] - 5s 240ms/step - loss: 0.5398 - val_loss: 0.6970\n",
      "Epoch 88/150\n",
      "19/19 [==============================] - 4s 234ms/step - loss: 0.5258 - val_loss: 0.6969\n",
      "Epoch 89/150\n",
      "19/19 [==============================] - 4s 236ms/step - loss: 0.5211 - val_loss: 0.6970\n",
      "Epoch 90/150\n",
      "19/19 [==============================] - 4s 236ms/step - loss: 0.5229 - val_loss: 0.6970\n",
      "Epoch 91/150\n",
      "19/19 [==============================] - 4s 237ms/step - loss: 0.5298 - val_loss: 0.6972\n",
      "Epoch 92/150\n",
      "19/19 [==============================] - 5s 241ms/step - loss: 0.5223 - val_loss: 0.6969\n",
      "Epoch 93/150\n",
      "19/19 [==============================] - 5s 238ms/step - loss: 0.5262 - val_loss: 0.6970\n",
      "Epoch 94/150\n",
      "19/19 [==============================] - 5s 240ms/step - loss: 0.5211 - val_loss: 0.6972\n",
      "Epoch 95/150\n",
      "19/19 [==============================] - 4s 234ms/step - loss: 0.5275 - val_loss: 0.6970\n",
      "Epoch 96/150\n",
      "19/19 [==============================] - 4s 235ms/step - loss: 0.5229 - val_loss: 0.6971\n",
      "Epoch 97/150\n",
      "19/19 [==============================] - 4s 238ms/step - loss: 0.5300 - val_loss: 0.6971\n",
      "Epoch 98/150\n",
      "19/19 [==============================] - 5s 238ms/step - loss: 0.5185 - val_loss: 0.6971\n",
      "Epoch 99/150\n",
      "19/19 [==============================] - 5s 239ms/step - loss: 0.5228 - val_loss: 0.6970\n",
      "Epoch 100/150\n",
      "19/19 [==============================] - 4s 235ms/step - loss: 0.5340 - val_loss: 0.6970\n",
      "Epoch 101/150\n",
      "19/19 [==============================] - 5s 239ms/step - loss: 0.5210 - val_loss: 0.6970\n",
      "Epoch 102/150\n",
      "19/19 [==============================] - 4s 236ms/step - loss: 0.5320 - val_loss: 0.6972\n",
      "Epoch 103/150\n",
      "19/19 [==============================] - 4s 236ms/step - loss: 0.5271 - val_loss: 0.6973\n",
      "Epoch 104/150\n",
      "19/19 [==============================] - 4s 236ms/step - loss: 0.5373 - val_loss: 0.6974\n",
      "Epoch 105/150\n",
      "19/19 [==============================] - 5s 244ms/step - loss: 0.5215 - val_loss: 0.6972\n",
      "Epoch 106/150\n",
      "19/19 [==============================] - 4s 236ms/step - loss: 0.5058 - val_loss: 0.6972\n",
      "Epoch 107/150\n",
      "19/19 [==============================] - 5s 238ms/step - loss: 0.5296 - val_loss: 0.6972\n",
      "Epoch 108/150\n",
      "19/19 [==============================] - 5s 239ms/step - loss: 0.5158 - val_loss: 0.6973\n",
      "Epoch 109/150\n",
      "19/19 [==============================] - 4s 237ms/step - loss: 0.5151 - val_loss: 0.6972\n",
      "Epoch 110/150\n",
      "19/19 [==============================] - 4s 235ms/step - loss: 0.5148 - val_loss: 0.6974\n",
      "Epoch 111/150\n",
      "19/19 [==============================] - 4s 237ms/step - loss: 0.5276 - val_loss: 0.6973\n",
      "Epoch 112/150\n",
      "19/19 [==============================] - 5s 244ms/step - loss: 0.5201 - val_loss: 0.6973\n",
      "Epoch 113/150\n",
      "19/19 [==============================] - 4s 237ms/step - loss: 0.5427 - val_loss: 0.6972\n",
      "Epoch 114/150\n",
      "19/19 [==============================] - 5s 238ms/step - loss: 0.5158 - val_loss: 0.6974\n",
      "Epoch 115/150\n",
      "19/19 [==============================] - 5s 238ms/step - loss: 0.5278 - val_loss: 0.6975\n",
      "Epoch 116/150\n",
      "19/19 [==============================] - 4s 236ms/step - loss: 0.5196 - val_loss: 0.6972\n",
      "Epoch 117/150\n",
      "19/19 [==============================] - 4s 237ms/step - loss: 0.5170 - val_loss: 0.6974\n",
      "Epoch 118/150\n",
      "19/19 [==============================] - 4s 236ms/step - loss: 0.5353 - val_loss: 0.6974\n",
      "Epoch 119/150\n",
      "19/19 [==============================] - 5s 244ms/step - loss: 0.5126 - val_loss: 0.6973\n",
      "Epoch 120/150\n",
      "19/19 [==============================] - 4s 234ms/step - loss: 0.5099 - val_loss: 0.6974\n",
      "Epoch 121/150\n",
      "19/19 [==============================] - 4s 236ms/step - loss: 0.5253 - val_loss: 0.6975\n",
      "Epoch 122/150\n",
      "19/19 [==============================] - 5s 238ms/step - loss: 0.5032 - val_loss: 0.6973\n",
      "Epoch 123/150\n",
      "19/19 [==============================] - 4s 234ms/step - loss: 0.5141 - val_loss: 0.6973\n",
      "Epoch 124/150\n",
      "19/19 [==============================] - 4s 236ms/step - loss: 0.5224 - val_loss: 0.6975\n",
      "Epoch 125/150\n",
      "19/19 [==============================] - 4s 238ms/step - loss: 0.5256 - val_loss: 0.6973\n",
      "Epoch 126/150\n",
      "19/19 [==============================] - 5s 247ms/step - loss: 0.5188 - val_loss: 0.6974\n",
      "Epoch 127/150\n",
      "19/19 [==============================] - 4s 236ms/step - loss: 0.4973 - val_loss: 0.6977\n",
      "Epoch 128/150\n",
      "19/19 [==============================] - 4s 237ms/step - loss: 0.5274 - val_loss: 0.6975\n",
      "Epoch 129/150\n",
      "19/19 [==============================] - 5s 238ms/step - loss: 0.5234 - val_loss: 0.6976\n",
      "Epoch 130/150\n",
      "19/19 [==============================] - 4s 235ms/step - loss: 0.5145 - val_loss: 0.6973\n",
      "Epoch 131/150\n",
      "19/19 [==============================] - 4s 237ms/step - loss: 0.5133 - val_loss: 0.6974\n",
      "Epoch 132/150\n",
      "19/19 [==============================] - 4s 236ms/step - loss: 0.5142 - val_loss: 0.6975\n",
      "Epoch 133/150\n",
      "19/19 [==============================] - 5s 249ms/step - loss: 0.5277 - val_loss: 0.6974\n",
      "Epoch 134/150\n",
      "19/19 [==============================] - 4s 235ms/step - loss: 0.5016 - val_loss: 0.6975\n",
      "Epoch 135/150\n",
      "19/19 [==============================] - 5s 239ms/step - loss: 0.5169 - val_loss: 0.6975\n",
      "Epoch 136/150\n",
      "19/19 [==============================] - 5s 238ms/step - loss: 0.5032 - val_loss: 0.6976\n",
      "Epoch 137/150\n",
      "19/19 [==============================] - 4s 236ms/step - loss: 0.5266 - val_loss: 0.6976\n",
      "Epoch 138/150\n",
      "19/19 [==============================] - 4s 237ms/step - loss: 0.5146 - val_loss: 0.6975\n",
      "Epoch 139/150\n",
      "19/19 [==============================] - 4s 238ms/step - loss: 0.5212 - val_loss: 0.6976\n",
      "Epoch 140/150\n",
      "19/19 [==============================] - 5s 247ms/step - loss: 0.5189 - val_loss: 0.6975\n",
      "Epoch 141/150\n",
      "19/19 [==============================] - 4s 238ms/step - loss: 0.5124 - val_loss: 0.6975\n",
      "Epoch 142/150\n",
      "19/19 [==============================] - 5s 238ms/step - loss: 0.5302 - val_loss: 0.6977\n",
      "Epoch 143/150\n",
      "19/19 [==============================] - 4s 236ms/step - loss: 0.5200 - val_loss: 0.6975\n",
      "Epoch 144/150\n",
      "19/19 [==============================] - 4s 237ms/step - loss: 0.5123 - val_loss: 0.6975\n",
      "Epoch 145/150\n",
      "19/19 [==============================] - 4s 237ms/step - loss: 0.5146 - val_loss: 0.6977\n",
      "Epoch 146/150\n",
      "19/19 [==============================] - 5s 239ms/step - loss: 0.5064 - val_loss: 0.6977\n",
      "Epoch 147/150\n",
      "19/19 [==============================] - 5s 243ms/step - loss: 0.4986 - val_loss: 0.6976\n",
      "Epoch 148/150\n",
      "19/19 [==============================] - 4s 236ms/step - loss: 0.5201 - val_loss: 0.6977\n",
      "Epoch 149/150\n",
      "19/19 [==============================] - 5s 240ms/step - loss: 0.5224 - val_loss: 0.6976\n",
      "Epoch 150/150\n",
      "19/19 [==============================] - 4s 236ms/step - loss: 0.5179 - val_loss: 0.6976\n"
     ]
    }
   ],
   "source": [
    "history=model.fit(X_train,y_train,batch_size=128,epochs=150,validation_data=(X_val,y_val),\n",
    "                  callbacks=[mc,rop,es])"
   ]
  },
  {
   "cell_type": "code",
   "execution_count": 14,
   "id": "diverse-delaware",
   "metadata": {
    "execution": {
     "iopub.execute_input": "2021-05-17T12:33:13.672962Z",
     "iopub.status.busy": "2021-05-17T12:33:13.672422Z",
     "iopub.status.idle": "2021-05-17T12:33:13.877593Z",
     "shell.execute_reply": "2021-05-17T12:33:13.877993Z"
    },
    "papermill": {
     "duration": 1.578576,
     "end_time": "2021-05-17T12:33:13.878131",
     "exception": false,
     "start_time": "2021-05-17T12:33:12.299555",
     "status": "completed"
    },
    "tags": []
   },
   "outputs": [
    {
     "name": "stderr",
     "output_type": "stream",
     "text": [
      "/opt/conda/lib/python3.7/site-packages/ipykernel_launcher.py:6: UserWarning: color is redundantly defined by the 'color' keyword argument and the fmt string \"b\" (-> color=(0.0, 0.0, 1.0, 1)). The keyword argument will take precedence.\n",
      "  \n",
      "/opt/conda/lib/python3.7/site-packages/ipykernel_launcher.py:7: UserWarning: color is redundantly defined by the 'color' keyword argument and the fmt string \"b\" (-> color=(0.0, 0.0, 1.0, 1)). The keyword argument will take precedence.\n",
      "  import sys\n"
     ]
    },
    {
     "data": {
      "image/png": "[encoded data removed]",
      "text/plain": [
       "<Figure size 720x360 with 1 Axes>"
      ]
     },
     "metadata": {
      "needs_background": "light"
     },
     "output_type": "display_data"
    }
   ],
   "source": [
    "import matplotlib.pyplot as plt\n",
    "loss = history.history['loss']\n",
    "val_loss = history.history['val_loss']\n",
    "epochs = range(1, len(loss) + 1)\n",
    "plt.figure(figsize=(10,5))\n",
    "plt.plot(epochs, loss, 'b', color='red', label='Training loss')\n",
    "plt.plot(epochs, val_loss, 'b',color='blue', label='Validation loss')\n",
    "plt.title('Training and validation loss')\n",
    "plt.legend()\n",
    "plt.grid()\n",
    "plt.show()"
   ]
  },
  {
   "cell_type": "code",
   "execution_count": 15,
   "id": "bright-initial",
   "metadata": {
    "execution": {
     "iopub.execute_input": "2021-05-17T12:33:17.268364Z",
     "iopub.status.busy": "2021-05-17T12:33:17.266834Z",
     "iopub.status.idle": "2021-05-17T12:33:17.270465Z",
     "shell.execute_reply": "2021-05-17T12:33:17.270025Z"
    },
    "papermill": {
     "duration": 1.745842,
     "end_time": "2021-05-17T12:33:17.270593",
     "exception": false,
     "start_time": "2021-05-17T12:33:15.524751",
     "status": "completed"
    },
    "tags": []
   },
   "outputs": [
    {
     "name": "stdout",
     "output_type": "stream",
     "text": [
      "Cleaning Punctuations\n",
      "Cleaning numbers\n",
      "Cleaning Stopwords\n",
      "Word Normalizing\n"
     ]
    }
   ],
   "source": [
    "cleaned_test=clean_text(test_df)"
   ]
  },
  {
   "cell_type": "code",
   "execution_count": 16,
   "id": "desirable-builder",
   "metadata": {
    "execution": {
     "iopub.execute_input": "2021-05-17T12:33:20.052964Z",
     "iopub.status.busy": "2021-05-17T12:33:20.052219Z",
     "iopub.status.idle": "2021-05-17T12:33:20.056183Z",
     "shell.execute_reply": "2021-05-17T12:33:20.055794Z"
    },
    "papermill": {
     "duration": 1.425767,
     "end_time": "2021-05-17T12:33:20.056293",
     "exception": false,
     "start_time": "2021-05-17T12:33:18.630526",
     "status": "completed"
    },
    "tags": []
   },
   "outputs": [
    {
     "name": "stdout",
     "output_type": "stream",
     "text": [
      "Word Tokenization and Transforming of Test data\n",
      "Tokenization Done!\n"
     ]
    }
   ],
   "source": [
    "print('Word Tokenization and Transforming of Test data')\n",
    "tokenizer=Tokenizer(num_words=max_words)\n",
    "tokenizer.fit_on_texts(cleaned_test)\n",
    "sequences=tokenizer.texts_to_sequences(cleaned_test)\n",
    "test_data_preped=pad_sequences(sequences,maxlen=maxlen_)\n",
    "word_index=tokenizer.word_index\n",
    "print('Tokenization Done!')"
   ]
  },
  {
   "cell_type": "code",
   "execution_count": 17,
   "id": "prostate-organ",
   "metadata": {
    "execution": {
     "iopub.execute_input": "2021-05-17T12:33:22.784009Z",
     "iopub.status.busy": "2021-05-17T12:33:22.780714Z",
     "iopub.status.idle": "2021-05-17T12:33:24.804920Z",
     "shell.execute_reply": "2021-05-17T12:33:24.804398Z"
    },
    "papermill": {
     "duration": 3.38582,
     "end_time": "2021-05-17T12:33:24.805060",
     "exception": false,
     "start_time": "2021-05-17T12:33:21.419240",
     "status": "completed"
    },
    "tags": []
   },
   "outputs": [],
   "source": [
    "model=load_model('model.h5',custom_objects={'rmse': rmse})\n",
    "preds=model.predict(test_data_preped)\n",
    "sample_sub['target']=preds\n",
    "sample_sub.to_csv('submission.csv',index=False)"
   ]
  }
 ],
 "metadata": {
  "kernelspec": {
   "display_name": "Python 3",
   "language": "python",
   "name": "python3"
  },
  "language_info": {
   "codemirror_mode": {
    "name": "ipython",
    "version": 3
   },
   "file_extension": ".py",
   "mimetype": "text/x-python",
   "name": "python",
   "nbconvert_exporter": "python",
   "pygments_lexer": "ipython3",
   "version": "3.7.10"
  },
  "papermill": {
   "default_parameters": {},
   "duration": 1000.624482,
   "end_time": "2021-05-17T12:33:29.384750",
   "environment_variables": {},
   "exception": null,
   "input_path": "__notebook__.ipynb",
   "output_path": "__notebook__.ipynb",
   "parameters": {},
   "start_time": "2021-05-17T12:16:48.760268",
   "version": "2.3.3"
  }
 },
 "nbformat": 4,
 "nbformat_minor": 5
}
