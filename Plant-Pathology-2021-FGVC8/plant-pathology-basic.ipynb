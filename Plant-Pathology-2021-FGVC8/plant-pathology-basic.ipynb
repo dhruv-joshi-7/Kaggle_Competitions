{
 "cells": [
  {
   "cell_type": "code",
   "execution_count": 1,
   "id": "extreme-algebra",
   "metadata": {
    "execution": {
     "iopub.execute_input": "2021-04-10T14:37:22.701677Z",
     "iopub.status.busy": "2021-04-10T14:37:22.700390Z",
     "iopub.status.idle": "2021-04-10T14:37:22.704297Z",
     "shell.execute_reply": "2021-04-10T14:37:22.703764Z"
    },
    "papermill": {
     "duration": 0.013505,
     "end_time": "2021-04-10T14:37:22.704421",
     "exception": false,
     "start_time": "2021-04-10T14:37:22.690916",
     "status": "completed"
    },
    "tags": []
   },
   "outputs": [],
   "source": [
    "path = '../input/plant-pathology-2021-fgvc8/'\n",
    "train_dir = path + 'train_images/'\n",
    "test_dir = path + 'test_images/'"
   ]
  },
  {
   "cell_type": "code",
   "execution_count": 2,
   "id": "colonial-cache",
   "metadata": {
    "execution": {
     "iopub.execute_input": "2021-04-10T14:37:22.720162Z",
     "iopub.status.busy": "2021-04-10T14:37:22.719592Z",
     "iopub.status.idle": "2021-04-10T14:37:22.769607Z",
     "shell.execute_reply": "2021-04-10T14:37:22.769107Z"
    },
    "papermill": {
     "duration": 0.060446,
     "end_time": "2021-04-10T14:37:22.769715",
     "exception": false,
     "start_time": "2021-04-10T14:37:22.709269",
     "status": "completed"
    },
    "tags": []
   },
   "outputs": [
    {
     "data": {
      "text/plain": [
       "scab                               4826\n",
       "healthy                            4624\n",
       "frog_eye_leaf_spot                 3181\n",
       "rust                               1860\n",
       "complex                            1602\n",
       "powdery_mildew                     1184\n",
       "scab frog_eye_leaf_spot             686\n",
       "scab frog_eye_leaf_spot complex     200\n",
       "frog_eye_leaf_spot complex          165\n",
       "rust frog_eye_leaf_spot             120\n",
       "rust complex                         97\n",
       "powdery_mildew complex               87\n",
       "Name: labels, dtype: int64"
      ]
     },
     "execution_count": 2,
     "metadata": {},
     "output_type": "execute_result"
    }
   ],
   "source": [
    "import pandas as pd\n",
    "df = pd.read_csv(\"../input/plant-pathology-2021-fgvc8/train.csv\", dtype=str)\n",
    "df.labels.value_counts()"
   ]
  },
  {
   "cell_type": "code",
   "execution_count": 3,
   "id": "bacterial-investing",
   "metadata": {
    "execution": {
     "iopub.execute_input": "2021-04-10T14:37:22.792393Z",
     "iopub.status.busy": "2021-04-10T14:37:22.790655Z",
     "iopub.status.idle": "2021-04-10T14:37:22.792980Z",
     "shell.execute_reply": "2021-04-10T14:37:22.793373Z"
    },
    "papermill": {
     "duration": 0.018574,
     "end_time": "2021-04-10T14:37:22.793491",
     "exception": false,
     "start_time": "2021-04-10T14:37:22.774917",
     "status": "completed"
    },
    "tags": []
   },
   "outputs": [],
   "source": [
    "df['labels'] = df['labels'].astype(str)"
   ]
  },
  {
   "cell_type": "code",
   "execution_count": 4,
   "id": "supreme-treaty",
   "metadata": {
    "execution": {
     "iopub.execute_input": "2021-04-10T14:37:22.809327Z",
     "iopub.status.busy": "2021-04-10T14:37:22.808675Z",
     "iopub.status.idle": "2021-04-10T14:38:16.293273Z",
     "shell.execute_reply": "2021-04-10T14:38:16.294001Z"
    },
    "papermill": {
     "duration": 53.495841,
     "end_time": "2021-04-10T14:38:16.294163",
     "exception": false,
     "start_time": "2021-04-10T14:37:22.798322",
     "status": "completed"
    },
    "tags": []
   },
   "outputs": [
    {
     "name": "stdout",
     "output_type": "stream",
     "text": [
      "Found 13043 validated image filenames belonging to 12 classes.\n",
      "Found 5589 validated image filenames belonging to 12 classes.\n"
     ]
    }
   ],
   "source": [
    "from keras.preprocessing.image import ImageDataGenerator\n",
    "\n",
    "train_datagen  = ImageDataGenerator(rescale = 1./255,\n",
    "                                   validation_split = 0.3)\n",
    "\n",
    "test_datagen = ImageDataGenerator(rescale = 1./255,\n",
    "                                 validation_split = 0.3)\n",
    "\n",
    "train_generator = train_datagen.flow_from_dataframe(dataframe = df,\n",
    "                                                   directory = train_dir,\n",
    "                                                   target_size = (150,150),\n",
    "                                                   x_col = 'image',\n",
    "                                                   y_col = 'labels',\n",
    "                                                   batch_size = 256,\n",
    "                                                   color_mode = 'rgb',\n",
    "                                                   class_mode = 'categorical',\n",
    "                                                   subset = 'training')\n",
    "\n",
    "test_generator = test_datagen.flow_from_dataframe(dataframe = df,\n",
    "                                                 directory = train_dir,\n",
    "                                                 target_size = (150,150),\n",
    "                                                 x_col = 'image',\n",
    "                                                 y_col = 'labels',\n",
    "                                                 batch_size = 256,\n",
    "                                                 color_mode = 'rgb',\n",
    "                                                 class_mode = 'categorical',\n",
    "                                                 subset = 'validation')"
   ]
  },
  {
   "cell_type": "code",
   "execution_count": 5,
   "id": "parental-contractor",
   "metadata": {
    "execution": {
     "iopub.execute_input": "2021-04-10T14:38:16.315392Z",
     "iopub.status.busy": "2021-04-10T14:38:16.314881Z",
     "iopub.status.idle": "2021-04-10T14:38:19.242424Z",
     "shell.execute_reply": "2021-04-10T14:38:19.241711Z"
    },
    "papermill": {
     "duration": 2.94264,
     "end_time": "2021-04-10T14:38:19.242588",
     "exception": false,
     "start_time": "2021-04-10T14:38:16.299948",
     "status": "completed"
    },
    "tags": []
   },
   "outputs": [
    {
     "name": "stdout",
     "output_type": "stream",
     "text": [
      "Model: \"sequential\"\n",
      "_________________________________________________________________\n",
      "Layer (type)                 Output Shape              Param #   \n",
      "=================================================================\n",
      "conv2d (Conv2D)              (None, 148, 148, 64)      1792      \n",
      "_________________________________________________________________\n",
      "max_pooling2d (MaxPooling2D) (None, 74, 74, 64)        0         \n",
      "_________________________________________________________________\n",
      "conv2d_1 (Conv2D)            (None, 72, 72, 64)        36928     \n",
      "_________________________________________________________________\n",
      "max_pooling2d_1 (MaxPooling2 (None, 36, 36, 64)        0         \n",
      "_________________________________________________________________\n",
      "conv2d_2 (Conv2D)            (None, 34, 34, 128)       73856     \n",
      "_________________________________________________________________\n",
      "max_pooling2d_2 (MaxPooling2 (None, 17, 17, 128)       0         \n",
      "_________________________________________________________________\n",
      "conv2d_3 (Conv2D)            (None, 15, 15, 256)       295168    \n",
      "_________________________________________________________________\n",
      "max_pooling2d_3 (MaxPooling2 (None, 7, 7, 256)         0         \n",
      "_________________________________________________________________\n",
      "flatten (Flatten)            (None, 12544)             0         \n",
      "_________________________________________________________________\n",
      "dropout (Dropout)            (None, 12544)             0         \n",
      "_________________________________________________________________\n",
      "dense (Dense)                (None, 512)               6423040   \n",
      "_________________________________________________________________\n",
      "dense_1 (Dense)              (None, 12)                6156      \n",
      "=================================================================\n",
      "Total params: 6,836,940\n",
      "Trainable params: 6,836,940\n",
      "Non-trainable params: 0\n",
      "_________________________________________________________________\n"
     ]
    }
   ],
   "source": [
    "from keras import models\n",
    "from keras import layers\n",
    "from keras import optimizers\n",
    "\n",
    "model = models.Sequential()\n",
    "\n",
    "model.add(layers.Conv2D(64, (3,3), activation = 'relu', input_shape = (150,150,3)))\n",
    "model.add(layers.MaxPooling2D((2,2)))\n",
    "\n",
    "model.add(layers.Conv2D(64, (3,3), activation = 'relu'))\n",
    "model.add(layers.MaxPooling2D((2,2)))\n",
    "\n",
    "model.add(layers.Conv2D(128, (3,3), activation = 'relu', input_shape = (150,150,3)))\n",
    "model.add(layers.MaxPooling2D((2,2)))\n",
    "\n",
    "\n",
    "model.add(layers.Conv2D(256, (3,3), activation = 'relu', input_shape = (150,150,3)))\n",
    "model.add(layers.MaxPooling2D((2,2)))\n",
    "\n",
    "model.add(layers.Flatten())\n",
    "model.add(layers.Dropout(0.5))\n",
    "model.add(layers.Dense(512, activation='relu'))\n",
    "model.add(layers.Dense(12, activation = 'softmax'))\n",
    "\n",
    "optimizer = optimizers.Adam(lr = 0.001)\n",
    "\n",
    "model.compile(loss='categorical_crossentropy',\n",
    "            optimizer=optimizer,\n",
    "            metrics=['accuracy'])\n",
    "model.summary()"
   ]
  },
  {
   "cell_type": "code",
   "execution_count": 6,
   "id": "aquatic-envelope",
   "metadata": {
    "execution": {
     "iopub.execute_input": "2021-04-10T14:38:19.259957Z",
     "iopub.status.busy": "2021-04-10T14:38:19.259193Z",
     "iopub.status.idle": "2021-04-10T22:47:43.615411Z",
     "shell.execute_reply": "2021-04-10T22:47:43.615838Z"
    },
    "papermill": {
     "duration": 29364.367372,
     "end_time": "2021-04-10T22:47:43.616858",
     "exception": false,
     "start_time": "2021-04-10T14:38:19.249486",
     "status": "completed"
    },
    "tags": []
   },
   "outputs": [
    {
     "name": "stdout",
     "output_type": "stream",
     "text": [
      "Epoch 1/10\n",
      "51/51 [==============================] - 3103s 61s/step - loss: 2.0097 - accuracy: 0.2389 - val_loss: 1.7182 - val_accuracy: 0.3782\n",
      "Epoch 2/10\n",
      "51/51 [==============================] - 2959s 58s/step - loss: 1.6870 - accuracy: 0.3698 - val_loss: 1.5446 - val_accuracy: 0.4362\n",
      "Epoch 3/10\n",
      "51/51 [==============================] - 2981s 59s/step - loss: 1.5333 - accuracy: 0.4406 - val_loss: 1.3805 - val_accuracy: 0.5076\n",
      "Epoch 4/10\n",
      "51/51 [==============================] - 3023s 60s/step - loss: 1.3312 - accuracy: 0.5268 - val_loss: 1.2062 - val_accuracy: 0.5862\n",
      "Epoch 5/10\n",
      "51/51 [==============================] - 2844s 56s/step - loss: 1.1393 - accuracy: 0.5989 - val_loss: 1.0821 - val_accuracy: 0.6257\n",
      "Epoch 6/10\n",
      "51/51 [==============================] - 2889s 57s/step - loss: 0.9972 - accuracy: 0.6406 - val_loss: 1.0463 - val_accuracy: 0.6429\n",
      "Epoch 7/10\n",
      "51/51 [==============================] - 2917s 58s/step - loss: 0.9404 - accuracy: 0.6620 - val_loss: 0.9882 - val_accuracy: 0.6538\n",
      "Epoch 8/10\n",
      "51/51 [==============================] - 3029s 60s/step - loss: 0.8477 - accuracy: 0.6980 - val_loss: 0.9607 - val_accuracy: 0.6799\n",
      "Epoch 9/10\n",
      "51/51 [==============================] - 2826s 56s/step - loss: 0.7825 - accuracy: 0.7227 - val_loss: 0.8946 - val_accuracy: 0.7141\n",
      "Epoch 10/10\n",
      "51/51 [==============================] - 2748s 54s/step - loss: 0.6997 - accuracy: 0.7518 - val_loss: 0.8909 - val_accuracy: 0.7067\n"
     ]
    }
   ],
   "source": [
    "history = model.fit(train_generator, epochs = 10, validation_data = test_generator)"
   ]
  }
 ],
 "metadata": {
  "kernelspec": {
   "display_name": "Python 3",
   "language": "python",
   "name": "python3"
  },
  "language_info": {
   "codemirror_mode": {
    "name": "ipython",
    "version": 3
   },
   "file_extension": ".py",
   "mimetype": "text/x-python",
   "name": "python",
   "nbconvert_exporter": "python",
   "pygments_lexer": "ipython3",
   "version": "3.7.9"
  },
  "papermill": {
   "default_parameters": {},
   "duration": 29429.367557,
   "end_time": "2021-04-10T22:47:46.914578",
   "environment_variables": {},
   "exception": null,
   "input_path": "__notebook__.ipynb",
   "output_path": "__notebook__.ipynb",
   "parameters": {},
   "start_time": "2021-04-10T14:37:17.547021",
   "version": "2.3.2"
  }
 },
 "nbformat": 4,
 "nbformat_minor": 5
}
